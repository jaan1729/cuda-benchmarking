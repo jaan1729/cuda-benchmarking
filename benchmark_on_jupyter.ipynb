{
 "cells": [
  {
   "cell_type": "code",
   "execution_count": 6,
   "id": "2db6dc90",
   "metadata": {},
   "outputs": [],
   "source": [
    "import threading\n",
    "import time\n",
    "\n",
    "import numpy as np\n",
    "import torch\n",
    "\n",
    "import mmcv\n",
    "from mmdet3d.apis import init_model\n",
    "from mmdet3d.core.bbox import get_box_type\n",
    "import matplotlib.pyplot as plt\n",
    "from mmdet3d.datasets.pipelines.loading import LoadPointsFromFile"
   ]
  },
  {
   "cell_type": "code",
   "execution_count": 47,
   "id": "2cd47ec7",
   "metadata": {},
   "outputs": [],
   "source": [
    "config_file = '/workspace/mmdetection3d/configs/pointpillars/hv_pointpillars_secfpn_sbn_2x16_2x_waymoD5-3d-3class.py'\n",
    "cfg = mmcv.Config.fromfile(config_file)\n",
    "# Set PTS voxel layer to non-deterministic to improve performance\n",
    "cfg.model.pts_voxel_layer['deterministic'] = False\n",
    "\n",
    "#this_pkg_path = rospkg.RosPack().get_path('conav_lidar_object_detection_mmdet3d')\n",
    "#self.checkpoint_file = this_pkg_path + '/resources/hv_pointpillars_secfpn_sbn_2x16_2x_waymoD5-3d-3class_20200831_204144-d1a706b1.pth'"
   ]
  },
  {
   "cell_type": "code",
   "execution_count": 49,
   "id": "8918ca9b",
   "metadata": {},
   "outputs": [],
   "source": [
    "model = init_model(cfg, device='cuda:0')\n",
    "model = model.eval().half()  # Half precision to improve performance"
   ]
  },
  {
   "cell_type": "code",
   "execution_count": 50,
   "id": "78f0174d",
   "metadata": {},
   "outputs": [],
   "source": [
    "box_type_3d, box_mode_3d = get_box_type('LiDAR')\n",
    "\n",
    "data = dict(img_metas=[[{'flip': False,\n",
    "                          'pcd_horizontal_flip': False,\n",
    "                          'pcd_vertical_flip': False,\n",
    "                          'box_type_3d': box_type_3d,\n",
    "                          'box_mode_3d': box_mode_3d,\n",
    "                          'pcd_trans': np.array([0., 0., 0.]),\n",
    "                          'pcd_scale_factor': 1.0,\n",
    "                          'pcd_rotation': torch.tensor([[1., 0., 0.],\n",
    "                                                        [-0., 1., 0.],\n",
    "                                                        [0., 0., 1.]]),\n",
    "                          'transformation_3d_flow': ['R', 'S', 'T']}]])"
   ]
  },
  {
   "cell_type": "code",
   "execution_count": 99,
   "id": "04bd566f",
   "metadata": {},
   "outputs": [],
   "source": [
    "#file = '128c/0000000101.bin'\n",
    "#file = '64c/0000000001.bin'\n",
    "file = '32c/n008-2018-08-01-15-16-36-0400__LIDAR_TOP__1533151603547590.pcd.bin'"
   ]
  },
  {
   "cell_type": "code",
   "execution_count": 100,
   "id": "d56efa54",
   "metadata": {},
   "outputs": [],
   "source": [
    "pcd = LoadPointsFromFile('LIDAR', 4, 4)({'pts_filename':file})\n",
    "pcd_numpy = pcd['points'].tensor.numpy()"
   ]
  },
  {
   "cell_type": "code",
   "execution_count": 57,
   "id": "ded49b33",
   "metadata": {},
   "outputs": [],
   "source": [
    "def inference_pipeline(pcd_numpy):\n",
    "    start = time.time()\n",
    "    points_array = np.empty((pcd_numpy.shape[0], 5), dtype='float32')\n",
    "    count = 0\n",
    "\n",
    "    for p in pcd_numpy:\n",
    "        points_array[count, 0:4] = p  # x, y, z, intensity\n",
    "        count += 1\n",
    "\n",
    "\n",
    "    points_array = torch.tensor(points_array).to(device='cuda')\n",
    "    # Intensity in the message is 0 to 100, but maybe the model uses 0 to 1?\n",
    "    points_array[:, 3] = points_array[:, 3] / 100.\n",
    "    points_array[:, 4] = 0.  # 5th element is just 0\n",
    "    data['points'] = [[points_array]]\n",
    "    preprocessing_time = time.time() - start\n",
    "    start = time.time()\n",
    "    # Inference with automatic mixed precision\n",
    "    with torch.cuda.amp.autocast():\n",
    "        result = model(return_loss=False, rescale=False, **data)\n",
    "    inference_time = time.time() - start\n",
    "    return preprocessing_time, inference_time"
   ]
  },
  {
   "cell_type": "code",
   "execution_count": 102,
   "id": "11fb5b7f",
   "metadata": {},
   "outputs": [],
   "source": [
    "warmup_runs = 50\n",
    "nruns = 100\n",
    "\n",
    "for i in range(warmup_runs):\n",
    "    _,_ = inference_pipeline(pcd_numpy)\n",
    "preprocessing_time, inference_time = 0,0   \n",
    "for i in range(nruns):\n",
    "    pre_t, inf_t = inference_pipeline(pcd_numpy)\n",
    "    preprocessing_time += pre_t\n",
    "    inference_time += inf_t"
   ]
  },
  {
   "cell_type": "code",
   "execution_count": 93,
   "id": "8179c126",
   "metadata": {},
   "outputs": [
    {
     "name": "stdout",
     "output_type": "stream",
     "text": [
      "0.09483138322830201 0.04705915689468384\n",
      "262144\n"
     ]
    }
   ],
   "source": [
    "#128C\n",
    "#Memory: 3383MiB\n",
    "print(preprocessing_time/nruns, inference_time/nruns)\n",
    "print(pcd_numpy.shape[0])"
   ]
  },
  {
   "cell_type": "code",
   "execution_count": 98,
   "id": "10b56399",
   "metadata": {},
   "outputs": [
    {
     "name": "stdout",
     "output_type": "stream",
     "text": [
      "0.04262580156326294 0.04689863920211792\n",
      "120862\n"
     ]
    }
   ],
   "source": [
    "#64C\n",
    "#Memory: 3383MiB\n",
    "print(preprocessing_time/nruns, inference_time/nruns)\n",
    "print(pcd_numpy.shape[0])"
   ]
  },
  {
   "cell_type": "code",
   "execution_count": 103,
   "id": "a9218338",
   "metadata": {},
   "outputs": [
    {
     "name": "stdout",
     "output_type": "stream",
     "text": [
      "0.015692014694213868 0.04511390686035156\n",
      "43440\n"
     ]
    }
   ],
   "source": [
    "#32C\n",
    "#Memory: 3383MiB\n",
    "print(preprocessing_time/nruns, inference_time/nruns)\n",
    "print(pcd_numpy.shape[0])"
   ]
  },
  {
   "cell_type": "code",
   "execution_count": null,
   "id": "09cc3ec7",
   "metadata": {},
   "outputs": [],
   "source": []
  }
 ],
 "metadata": {
  "kernelspec": {
   "display_name": "Python 3 (ipykernel)",
   "language": "python",
   "name": "python3"
  },
  "language_info": {
   "codemirror_mode": {
    "name": "ipython",
    "version": 3
   },
   "file_extension": ".py",
   "mimetype": "text/x-python",
   "name": "python",
   "nbconvert_exporter": "python",
   "pygments_lexer": "ipython3",
   "version": "3.8.5"
  }
 },
 "nbformat": 4,
 "nbformat_minor": 5
}
